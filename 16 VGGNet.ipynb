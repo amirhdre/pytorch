{
 "cells": [
  {
   "cell_type": "markdown",
   "metadata": {},
   "source": [
    "# VGGNet implementation in Pytorch\n",
    "\n",
    "<img src=\"16 VGGNet img1.jpeg\" height=\"500px\">"
   ]
  },
  {
   "cell_type": "code",
   "execution_count": 2,
   "metadata": {},
   "outputs": [],
   "source": [
    "import torch\n",
    "import torch.nn as nn\n",
    "import torch.optim as optim\n",
    "import torch.nn.functional as F\n",
    "from torch.utils.data import DataLoader\n",
    "import torchvision.datasets as datasets\n",
    "import torchvision.transforms as transforms\n"
   ]
  },
  {
   "cell_type": "code",
   "execution_count": 4,
   "metadata": {},
   "outputs": [],
   "source": [
    "VGG16 = [\n",
    "    64,\n",
    "    64,\n",
    "    \"M\",\n",
    "    128,\n",
    "    128,\n",
    "    \"M\",\n",
    "    256,\n",
    "    256,\n",
    "    256,\n",
    "    \"M\",\n",
    "    512,\n",
    "    512,\n",
    "    \"M\",\n",
    "    512,\n",
    "    512,\n",
    "    512,\n",
    "    \"M\",\n",
    "]\n",
    "# Then flatten and 4096x4096x1000 Linear Layers\n"
   ]
  },
  {
   "cell_type": "code",
   "execution_count": 9,
   "metadata": {},
   "outputs": [],
   "source": [
    "class VGG_net(nn.Module):\n",
    "    def __init__(self, in_channels=3, num_classes=1000):\n",
    "        super(VGG_net, self).__init__()\n",
    "        self.in_channles = in_channels\n",
    "        self.conv_layers = self.create_conv_layers(VGG16)\n",
    "        self.fcs1 = nn.Sequential(nn.Linear(512*7*7))\n",
    "        # Why 7? Because 224/(2**5)\n",
    "        # Why 5? We have 5 maxpools\n",
    "\n",
    "    def forward(self, x):\n",
    "        pass\n",
    "\n",
    "    def create_conv_layers(self, architecture):\n",
    "        layers = []\n",
    "        in_channels = self.in_channles\n",
    "        for x in architecture:\n",
    "            if type(x) == int:\n",
    "                out_channels = x\n",
    "                layers += [\n",
    "                    nn.Conv2d(\n",
    "                        in_channels=in_channels,\n",
    "                        out_channels=out_channels,\n",
    "                        kernel_size=(3, 3),\n",
    "                        stride=(1, 1),\n",
    "                        padding=(1, 1),\n",
    "                    ),\n",
    "                    nn.BatchNorm2d(x),\n",
    "                    nn.ReLU(),\n",
    "                ]\n",
    "                in_channels = x\n",
    "\n",
    "            if x == \"M\":\n",
    "                layers += [nn.MaxPool2d(kernel_size=(2, 2), stride=(2, 2))]\n",
    "\n",
    "        return nn.Sequential(*layers)\n"
   ]
  },
  {
   "cell_type": "code",
   "execution_count": null,
   "metadata": {},
   "outputs": [],
   "source": []
  }
 ],
 "metadata": {
  "kernelspec": {
   "display_name": "Python 3.8.13 ('torch-nightly')",
   "language": "python",
   "name": "python3"
  },
  "language_info": {
   "codemirror_mode": {
    "name": "ipython",
    "version": 3
   },
   "file_extension": ".py",
   "mimetype": "text/x-python",
   "name": "python",
   "nbconvert_exporter": "python",
   "pygments_lexer": "ipython3",
   "version": "3.8.13"
  },
  "orig_nbformat": 4,
  "vscode": {
   "interpreter": {
    "hash": "da2986db1b0ce502d9aba1af82e35c9903b0742cdc931dfd7284a66f7fb25fc3"
   }
  }
 },
 "nbformat": 4,
 "nbformat_minor": 2
}
