{
 "cells": [
  {
   "cell_type": "markdown",
   "metadata": {},
   "source": [
    "# How to deal with Imbalanced Datasets in PyTorch - Weighted Random Sampler Tutorial"
   ]
  },
  {
   "cell_type": "markdown",
   "metadata": {},
   "source": [
    "## Methods to deal with imbalanced datasets:\n",
    "\n",
    "1. Over-sampling \n",
    "    - Data augmentation, ...\n",
    "2. Class weighting \n",
    "    - Multiply loss for a class with a number"
   ]
  },
  {
   "cell_type": "code",
   "execution_count": 1,
   "metadata": {},
   "outputs": [],
   "source": [
    "import torch\n",
    "import torchvision.datasets as datasets\n",
    "import os\n",
    "from torch.utils.data import WeightedRandomSampler, DataLoader\n",
    "import torchvision.transforms as transforms\n",
    "import torch.nn as nn\n"
   ]
  },
  {
   "cell_type": "markdown",
   "metadata": {},
   "source": [
    "Classese:\n",
    "1. Cats: 0\n",
    "2. Dogs: 1\n",
    "\n",
    "We have 80 more examples of first class.\n",
    "\n",
    "☢️ This code is still buggy and final numbers are not balanced..."
   ]
  },
  {
   "cell_type": "code",
   "execution_count": 4,
   "metadata": {},
   "outputs": [],
   "source": [
    "loss_fn = nn.CrossEntropyLoss(weight=torch.tensor([1, 50]))\n"
   ]
  },
  {
   "cell_type": "code",
   "execution_count": 13,
   "metadata": {},
   "outputs": [
    {
     "name": "stdout",
     "output_type": "stream",
     "text": [
      "tensor(1209)\n",
      "tensor(11)\n"
     ]
    }
   ],
   "source": [
    "def get_loader(root_dir, batch_size):\n",
    "    my_transforms = transforms.Compose(\n",
    "        [transforms.Resize((224, 224)), transforms.ToTensor()]\n",
    "    )\n",
    "    dataset = datasets.ImageFolder(root=root_dir, transform=my_transforms)\n",
    "\n",
    "    # class_weights = [1, 50]\n",
    "    class_weights = []\n",
    "    for root, subdir, files in os.walk(\"./12 Imbalanced\"):\n",
    "        if len(files) > 0:\n",
    "            class_weights.append(1 / len(files))\n",
    "\n",
    "    # Set weight for each example in our dataset\n",
    "    sample_weights = [0] * len(dataset)\n",
    "\n",
    "    for idx, (data, label) in enumerate(dataset):\n",
    "        class_weight = class_weights[label]\n",
    "        sample_weights[idx] = class_weight\n",
    "\n",
    "    sampler = WeightedRandomSampler(\n",
    "        sample_weights, num_samples=len(sample_weights), replacement=True\n",
    "    )\n",
    "\n",
    "    loader = DataLoader(dataset, batch_size=batch_size, sampler=sampler)\n",
    "\n",
    "    return loader\n",
    "\n",
    "\n",
    "def main():\n",
    "    loader = get_loader(root_dir=\"./12 Imbalanced\", batch_size=8)\n",
    "\n",
    "    num_cats = 0\n",
    "    num_dogs = 0\n",
    "    for epoch in range(10):\n",
    "        for data, labels in loader:\n",
    "            num_cats += torch.sum(labels == 0)\n",
    "            num_dogs += torch.sum(labels == 1)\n",
    "\n",
    "    print(num_cats)\n",
    "    print(num_dogs)\n",
    "\n",
    "\n",
    "if __name__ == \"__main__\":\n",
    "    main()\n"
   ]
  },
  {
   "cell_type": "markdown",
   "metadata": {},
   "source": [
    "# For Alladin reference\n",
    "\n",
    "Dear Alladin, for your reference here is an image of the the files I used:\n",
    "\n",
    "<img src=\"12 Imbalanced img1.JPG\" height=\"500px\">"
   ]
  },
  {
   "cell_type": "markdown",
   "metadata": {},
   "source": [
    "Cats folder has 101 images and Dogs folder has 21 images."
   ]
  }
 ],
 "metadata": {
  "kernelspec": {
   "display_name": "Python 3.8.13 ('torch-nightly')",
   "language": "python",
   "name": "python3"
  },
  "language_info": {
   "codemirror_mode": {
    "name": "ipython",
    "version": 3
   },
   "file_extension": ".py",
   "mimetype": "text/x-python",
   "name": "python",
   "nbconvert_exporter": "python",
   "pygments_lexer": "ipython3",
   "version": "3.8.13"
  },
  "orig_nbformat": 4,
  "vscode": {
   "interpreter": {
    "hash": "da2986db1b0ce502d9aba1af82e35c9903b0742cdc931dfd7284a66f7fb25fc3"
   }
  }
 },
 "nbformat": 4,
 "nbformat_minor": 2
}
